{
 "cells": [
  {
   "cell_type": "code",
   "execution_count": null,
   "metadata": {},
   "outputs": [],
   "source": [
    "import copy\n",
    "import numpy as np\n",
    "import matplotlib\n",
    "import matplotlib.pyplot as plt\n",
    " \n",
    "DATA_FILE_802_11_B = '/home/student/ns-3-dev/lab3_3_80211_b.txt'\n",
    "DATA_FILE_802_11_G = '/home/student/ns-3-dev/lab3_3_80211_g.txt'\n",
    "columns = ['mcs', 'payload_size', 'throughput']\n",
    "\n",
    "sim_data_802_11_b = np.genfromtxt(DATA_FILE_802_11_B, delimiter=' ', names=columns, dtype=None)\n",
    "# sim_data_802_11_g = np.genfromtxt(DATA_FILE_802_11_G, delimiter=' ', names=columns, dtype=None)\n",
    " \n",
    "def plot_simulation_802_11_b_udp_throughput(sim_data):\n",
    "    fig, ax = plt.subplots(figsize=(12,12))\n",
    "    ax.grid(color='b', alpha=0.5, linestyle='dashed', linewidth=0.5)\n",
    " \n",
    "    plt.xlabel('Payload size [bytes]')\n",
    "    plt.ylabel('Throughput [Mbps]')\n",
    "    plt.title('Simulation 802.11b throughput')\n",
    " \n",
    "    for i in range(0,len(sim_data), 6):\n",
    "        ax.plot(sim_data['payload_size'][i:i + 6], sim_data['throughput'][i:i + 6], label=sim_data['mcs'][i])\n",
    "    ax.legend()\n",
    "    plt.savefig(\"simulation_80211_b.png\")\n",
    "    plt.show()\n",
    "\n",
    "def plot_simulation_802_11_g_throughput(sim_data):\n",
    "    fig, ax = plt.subplots(figsize=(12,12))\n",
    "    ax.grid(color='b', alpha=0.5, linestyle='dashed', linewidth=0.5)\n",
    " \n",
    "    plt.xlabel('Payload size [bytes]')\n",
    "    plt.ylabel('Throughput [Mbps]')\n",
    "    plt.title('Simulation 802.11g throughput')\n",
    " \n",
    "    for i in range(0,len(sim_data), 6):\n",
    "        ax.plot(sim_data['payload_size'][i:i + 6], sim_data['throughput'][i:i + 6], label=sim_data['mcs'][i])\n",
    "    ax.legend()\n",
    "    plt.savefig(\"simulation_80211_g.png\")\n",
    "    plt.show()\n",
    "\n",
    "if __name__ == '__main__':\n",
    "    plot_simulation_802_11_b_throughput(sim_data_802_11_b)    \n",
    "#     plot_simulation_802_11_g_throughput(sim_data_802_11_g)"
   ]
  }
 ],
 "metadata": {
  "kernelspec": {
   "display_name": "Python 3",
   "language": "python",
   "name": "python3"
  },
  "language_info": {
   "codemirror_mode": {
    "name": "ipython",
    "version": 3
   },
   "file_extension": ".py",
   "mimetype": "text/x-python",
   "name": "python",
   "nbconvert_exporter": "python",
   "pygments_lexer": "ipython3",
   "version": "3.7.3"
  }
 },
 "nbformat": 4,
 "nbformat_minor": 4
}
